{
 "cells": [
  {
   "cell_type": "code",
   "execution_count": 5,
   "metadata": {},
   "outputs": [
    {
     "name": "stdout",
     "output_type": "stream",
     "text": [
      "[youtube] Extracting URL: https://youtu.be/k94Y3WjVlCo\n",
      "[youtube] k94Y3WjVlCo: Downloading webpage\n",
      "[youtube] k94Y3WjVlCo: Downloading ios player API JSON\n",
      "[youtube] k94Y3WjVlCo: Downloading tv player API JSON\n"
     ]
    },
    {
     "name": "stderr",
     "output_type": "stream",
     "text": [
      "WARNING: [youtube] k94Y3WjVlCo: nsig extraction failed: Some formats may be missing\n",
      "         Install PhantomJS to workaround the issue. Please download it from https://phantomjs.org/download.html\n",
      "         n = 8F7SRjE5AUHGhKM ; player = https://www.youtube.com/s/player/37b24ccb/player_ias.vflset/en_US/base.js\n",
      "WARNING: [youtube] k94Y3WjVlCo: nsig extraction failed: Some formats may be missing\n",
      "         Install PhantomJS to workaround the issue. Please download it from https://phantomjs.org/download.html\n",
      "         n = VLc_M-teiFhuswl ; player = https://www.youtube.com/s/player/37b24ccb/player_ias.vflset/en_US/base.js\n"
     ]
    },
    {
     "name": "stdout",
     "output_type": "stream",
     "text": [
      "[youtube] k94Y3WjVlCo: Downloading m3u8 information\n",
      "[info] k94Y3WjVlCo: Downloading 1 format(s): 140\n",
      "[download] Destination: ./Your Purpose..m4a\n",
      "[download] 100% of   30.82MiB in 00:00:01 at 27.22MiB/s    \n",
      "[FixupM4a] Correcting container of \"./Your Purpose..m4a\"\n",
      "[ExtractAudio] Destination: ./Your Purpose..mp3\n",
      "Deleting original file ./Your Purpose..m4a (pass -k to keep)\n",
      "Audio downloaded for: https://youtu.be/k94Y3WjVlCo\n",
      "Exported: ./Your Purpose._part1.mp3\n",
      "Split ./Your Purpose..mp3 into 1 parts of 60 minutes each.\n"
     ]
    },
    {
     "data": {
      "text/plain": [
       "<ytdl.Dlsys at 0x10674a7d0>"
      ]
     },
     "execution_count": 5,
     "metadata": {},
     "output_type": "execute_result"
    }
   ],
   "source": [
    "from ytdl import Dlsys\n",
    "\n",
    "video_url = [\"https://youtu.be/Y3whytmX51w\"]\n",
    "Dlsys().set_url(video_url).split(60).audio()"
   ]
  }
 ],
 "metadata": {
  "kernelspec": {
   "display_name": "lab",
   "language": "python",
   "name": "python3"
  },
  "language_info": {
   "codemirror_mode": {
    "name": "ipython",
    "version": 3
   },
   "file_extension": ".py",
   "mimetype": "text/x-python",
   "name": "python",
   "nbconvert_exporter": "python",
   "pygments_lexer": "ipython3",
   "version": "3.11.0"
  }
 },
 "nbformat": 4,
 "nbformat_minor": 2
}
